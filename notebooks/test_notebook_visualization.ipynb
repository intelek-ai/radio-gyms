{
 "cells": [
  {
   "cell_type": "markdown",
   "id": "ad6be913",
   "metadata": {},
   "source": [
    "# Radio gyms on notebook's Tests"
   ]
  },
  {
   "cell_type": "markdown",
   "id": "ddfc8a49",
   "metadata": {},
   "source": [
    "Make sure that the notebook is in the radio-gyms directory"
   ]
  },
  {
   "cell_type": "code",
   "execution_count": 1,
   "id": "5f2bb380",
   "metadata": {
    "scrolled": true
   },
   "outputs": [
    {
     "name": "stdout",
     "output_type": "stream",
     "text": [
      "/Users/supawat/Code/radio-gyms\n"
     ]
    }
   ],
   "source": [
    "cd ..\n"
   ]
  },
  {
   "cell_type": "code",
   "execution_count": 2,
   "id": "2d0a89ce",
   "metadata": {},
   "outputs": [],
   "source": [
    "MAP_SCENE = \"./assets/models/poznan.obj\""
   ]
  },
  {
   "cell_type": "markdown",
   "id": "b84cbd5a",
   "metadata": {},
   "source": [
    "### Notebook Check Test"
   ]
  },
  {
   "cell_type": "code",
   "execution_count": 3,
   "id": "b3c1acba",
   "metadata": {},
   "outputs": [],
   "source": [
    "from radio_gyms.utils import IsNotebook"
   ]
  },
  {
   "cell_type": "code",
   "execution_count": 4,
   "id": "310ee593",
   "metadata": {
    "scrolled": true
   },
   "outputs": [
    {
     "data": {
      "text/plain": [
       "True"
      ]
     },
     "execution_count": 4,
     "metadata": {},
     "output_type": "execute_result"
    }
   ],
   "source": [
    "IsNotebook()"
   ]
  },
  {
   "cell_type": "markdown",
   "id": "3f240ee1",
   "metadata": {},
   "source": [
    "### Tracer Test"
   ]
  },
  {
   "cell_type": "code",
   "execution_count": 5,
   "id": "6bb59e31",
   "metadata": {},
   "outputs": [],
   "source": [
    "from radio_gyms.engines import Tracer"
   ]
  },
  {
   "cell_type": "code",
   "execution_count": 6,
   "id": "9c644022",
   "metadata": {},
   "outputs": [],
   "source": [
    "tracer = Tracer(MAP_SCENE)"
   ]
  },
  {
   "cell_type": "code",
   "execution_count": 7,
   "id": "cc76cd33",
   "metadata": {},
   "outputs": [],
   "source": [
    "rx = [0, 1.2, 0]\n",
    "tx = [-50, 4, 40]"
   ]
  },
  {
   "cell_type": "code",
   "execution_count": 8,
   "id": "1a561a7f",
   "metadata": {},
   "outputs": [],
   "source": [
    "result = tracer.trace_outdoor(tx, rx)"
   ]
  },
  {
   "cell_type": "code",
   "execution_count": 18,
   "id": "1faaa74d",
   "metadata": {},
   "outputs": [
    {
     "data": {
      "text/plain": [
       "{'direct': False,\n",
       " 'reflections': {'single': [], 'double': []},\n",
       " 'roof_edges': [array([-19.91198331,   8.65671394,  15.92958664]),\n",
       "  array([-3.08238266,  8.7236445 ,  2.46590613])],\n",
       " 'tx_pos': array([-50,   4,  40]),\n",
       " 'rx_pos': array([0. , 1.2, 0. ])}"
      ]
     },
     "execution_count": 18,
     "metadata": {},
     "output_type": "execute_result"
    }
   ],
   "source": [
    "result"
   ]
  },
  {
   "cell_type": "markdown",
   "id": "7f3f6845",
   "metadata": {},
   "source": [
    "### Visualization Test"
   ]
  },
  {
   "cell_type": "code",
   "execution_count": 10,
   "id": "e31c217e",
   "metadata": {},
   "outputs": [],
   "source": [
    "from radio_gyms.utils import Plotter"
   ]
  },
  {
   "cell_type": "code",
   "execution_count": 11,
   "id": "c5c1d0f9",
   "metadata": {},
   "outputs": [],
   "source": [
    "from radio_gyms.utils import OutdoorResultToLines"
   ]
  },
  {
   "cell_type": "code",
   "execution_count": 12,
   "id": "8a930a50",
   "metadata": {},
   "outputs": [],
   "source": [
    "terrain_map = tracer.get_terrain_depth(64, 64)"
   ]
  },
  {
   "cell_type": "code",
   "execution_count": 13,
   "id": "dadb56a0",
   "metadata": {},
   "outputs": [],
   "source": [
    "plotter = Plotter( tracer.min_bound, tracer.max_bound, terrain_map,)"
   ]
  },
  {
   "cell_type": "code",
   "execution_count": 14,
   "id": "3eb3ca6c",
   "metadata": {},
   "outputs": [],
   "source": [
    "lines = OutdoorResultToLines(result)"
   ]
  },
  {
   "cell_type": "code",
   "execution_count": 15,
   "id": "c019a775",
   "metadata": {},
   "outputs": [],
   "source": [
    "plotter.rx_pos.append(rx)\n",
    "plotter.tx_pos.append(tx)"
   ]
  },
  {
   "cell_type": "code",
   "execution_count": 16,
   "id": "5f60abe0",
   "metadata": {},
   "outputs": [
    {
     "data": {
      "image/png": "[encoded data removed]",
      "text/plain": [
       "<Figure size 432x288 with 2 Axes>"
      ]
     },
     "metadata": {
      "needs_background": "light"
     },
     "output_type": "display_data"
    }
   ],
   "source": [
    "plotter.render_top()"
   ]
  }
 ],
 "metadata": {
  "kernelspec": {
   "display_name": "Python 3 (ipykernel)",
   "language": "python",
   "name": "python3"
  },
  "language_info": {
   "codemirror_mode": {
    "name": "ipython",
    "version": 3
   },
   "file_extension": ".py",
   "mimetype": "text/x-python",
   "name": "python",
   "nbconvert_exporter": "python",
   "pygments_lexer": "ipython3",
   "version": "3.8.13"
  }
 },
 "nbformat": 4,
 "nbformat_minor": 5
}
