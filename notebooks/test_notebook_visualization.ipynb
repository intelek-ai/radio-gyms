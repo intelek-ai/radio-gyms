{
 "cells": [
  {
   "cell_type": "code",
   "execution_count": 54,
   "id": "67734f71",
   "metadata": {},
   "outputs": [
    {
     "name": "stdout",
     "output_type": "stream",
     "text": [
      "/Users/supawat/Code/radio-gyms\n"
     ]
    }
   ],
   "source": [
    "cd .."
   ]
  },
  {
   "cell_type": "code",
   "execution_count": 56,
   "id": "13548427",
   "metadata": {},
   "outputs": [
    {
     "name": "stdout",
     "output_type": "stream",
     "text": [
      "LICENSE              \u001b[1m\u001b[36mdist\u001b[m\u001b[m/                setup.cfg\r\n",
      "MANIFEST.in          \u001b[1m\u001b[36mnotebooks\u001b[m\u001b[m/           \u001b[1m\u001b[36mtest\u001b[m\u001b[m/\r\n",
      "README.md            pyproject.toml       upload.sh\r\n",
      "\u001b[1m\u001b[36massets\u001b[m\u001b[m/              \u001b[1m\u001b[36mradio_gyms\u001b[m\u001b[m/\r\n",
      "\u001b[1m\u001b[36mbuild\u001b[m\u001b[m/               \u001b[1m\u001b[36mradio_gyms.egg-info\u001b[m\u001b[m/\r\n"
     ]
    }
   ],
   "source": [
    "ls"
   ]
  },
  {
   "cell_type": "code",
   "execution_count": null,
   "id": "165122eb",
   "metadata": {},
   "outputs": [],
   "source": [
    "from radio_gyms.utils "
   ]
  }
 ],
 "metadata": {
  "kernelspec": {
   "display_name": "Python 3 (ipykernel)",
   "language": "python",
   "name": "python3"
  },
  "language_info": {
   "codemirror_mode": {
    "name": "ipython",
    "version": 3
   },
   "file_extension": ".py",
   "mimetype": "text/x-python",
   "name": "python",
   "nbconvert_exporter": "python",
   "pygments_lexer": "ipython3",
   "version": "3.8.12"
  }
 },
 "nbformat": 4,
 "nbformat_minor": 5
}
