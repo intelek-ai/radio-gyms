{
 "cells": [
  {
   "cell_type": "code",
   "execution_count": 1,
   "id": "5f2bb380",
   "metadata": {},
   "outputs": [
    {
     "name": "stdout",
     "output_type": "stream",
     "text": [
      "/Users/supawat/Code/radio-gyms\n"
     ]
    }
   ],
   "source": [
    "cd .. "
   ]
  },
  {
   "cell_type": "code",
   "execution_count": 5,
   "id": "b3c1acba",
   "metadata": {},
   "outputs": [],
   "source": [
    "from radio_gyms.utils import IsNotebook"
   ]
  },
  {
   "cell_type": "code",
   "execution_count": 7,
   "id": "310ee593",
   "metadata": {},
   "outputs": [
    {
     "data": {
      "text/plain": [
       "True"
      ]
     },
     "execution_count": 7,
     "metadata": {},
     "output_type": "execute_result"
    }
   ],
   "source": [
    "IsNotebook()"
   ]
  },
  {
   "cell_type": "code",
   "execution_count": null,
   "id": "17f34f39",
   "metadata": {},
   "outputs": [],
   "source": []
  }
 ],
 "metadata": {
  "kernelspec": {
   "display_name": "Python 3 (ipykernel)",
   "language": "python",
   "name": "python3"
  },
  "language_info": {
   "codemirror_mode": {
    "name": "ipython",
    "version": 3
   },
   "file_extension": ".py",
   "mimetype": "text/x-python",
   "name": "python",
   "nbconvert_exporter": "python",
   "pygments_lexer": "ipython3",
   "version": "3.8.12"
  }
 },
 "nbformat": 4,
 "nbformat_minor": 5
}
