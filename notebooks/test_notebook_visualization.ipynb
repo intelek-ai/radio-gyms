{
 "cells": [
  {
   "cell_type": "markdown",
   "id": "ad6be913",
   "metadata": {},
   "source": [
    "# Radio gyms on notebook's Tests"
   ]
  },
  {
   "cell_type": "markdown",
   "id": "e36eedd6",
   "metadata": {},
   "source": [
    "Make sure that the notebook is in the radio-gyms directory"
   ]
  },
  {
   "cell_type": "code",
   "execution_count": 1,
   "id": "5f2bb380",
   "metadata": {
    "scrolled": true
   },
   "outputs": [
    {
     "name": "stdout",
     "output_type": "stream",
     "text": [
      "/Users/supawat/Code/radio-gyms\n"
     ]
    }
   ],
   "source": [
    "cd ..\n"
   ]
  },
  {
   "cell_type": "code",
   "execution_count": 2,
   "id": "bf1ee681",
   "metadata": {},
   "outputs": [],
   "source": [
    "MAP_SCENE = \"./assets/models/poznan.obj\""
   ]
  },
  {
   "cell_type": "markdown",
   "id": "73c3680c",
   "metadata": {},
   "source": [
    "### Notebook Check Test"
   ]
  },
  {
   "cell_type": "code",
   "execution_count": 3,
   "id": "b3c1acba",
   "metadata": {},
   "outputs": [],
   "source": [
    "from radio_gyms.utils import IsNotebook"
   ]
  },
  {
   "cell_type": "code",
   "execution_count": 4,
   "id": "310ee593",
   "metadata": {
    "scrolled": true
   },
   "outputs": [
    {
     "data": {
      "text/plain": [
       "True"
      ]
     },
     "execution_count": 4,
     "metadata": {},
     "output_type": "execute_result"
    }
   ],
   "source": [
    "IsNotebook()"
   ]
  },
  {
   "cell_type": "markdown",
   "id": "541dee23",
   "metadata": {},
   "source": [
    "### Tracer Test"
   ]
  },
  {
   "cell_type": "code",
   "execution_count": 5,
   "id": "062ffb77",
   "metadata": {},
   "outputs": [],
   "source": [
    "from radio_gyms.engines import Tracer"
   ]
  },
  {
   "cell_type": "code",
   "execution_count": 6,
   "id": "c12ac00c",
   "metadata": {},
   "outputs": [],
   "source": [
    "tracer = Tracer(MAP_SCENE)"
   ]
  },
  {
   "cell_type": "code",
   "execution_count": 7,
   "id": "047d47ae",
   "metadata": {},
   "outputs": [],
   "source": [
    "rx = [0, 1.2, 0]\n",
    "tx = [-50, 4, -40]"
   ]
  },
  {
   "cell_type": "code",
   "execution_count": 8,
   "id": "f3a7f3c6",
   "metadata": {},
   "outputs": [],
   "source": [
    "result = tracer.trace_outdoor(tx, rx)"
   ]
  },
  {
   "cell_type": "code",
   "execution_count": 9,
   "id": "b3b09c49",
   "metadata": {},
   "outputs": [
    {
     "data": {
      "text/plain": [
       "{'direct': False,\n",
       " 'reflections': {'single': [], 'double': []},\n",
       " 'roof_edges': [array([-6.83543965,  8.83033149, -5.46835172]),\n",
       "  array([-2.57144575,  8.74363188, -2.0571566 ])],\n",
       " 'tx_pos': array([-50,   4, -40]),\n",
       " 'rx_pos': array([0. , 1.2, 0. ])}"
      ]
     },
     "execution_count": 9,
     "metadata": {},
     "output_type": "execute_result"
    }
   ],
   "source": [
    "result"
   ]
  },
  {
   "cell_type": "markdown",
   "id": "5858bd05",
   "metadata": {},
   "source": [
    "### Visualization Test"
   ]
  },
  {
   "cell_type": "code",
   "execution_count": 10,
   "id": "7a5768cb",
   "metadata": {},
   "outputs": [],
   "source": [
    "from radio_gyms.utils import Plotter"
   ]
  },
  {
   "cell_type": "code",
   "execution_count": 11,
   "id": "ed662148",
   "metadata": {},
   "outputs": [],
   "source": [
    "from radio_gyms.utils import OutdoorResultToLines"
   ]
  },
  {
   "cell_type": "code",
   "execution_count": 12,
   "id": "0659cdd8",
   "metadata": {},
   "outputs": [],
   "source": [
    "terrain_map = tracer.get_terrain_depth(64, 64)"
   ]
  },
  {
   "cell_type": "code",
   "execution_count": 13,
   "id": "d39072e5",
   "metadata": {},
   "outputs": [],
   "source": [
    "plotter = Plotter( tracer.min_bound, tracer.max_bound, terrain_map,)"
   ]
  },
  {
   "cell_type": "code",
   "execution_count": 14,
   "id": "467e66da",
   "metadata": {},
   "outputs": [],
   "source": [
    "lines = OutdoorResultToLines(result)"
   ]
  },
  {
   "cell_type": "code",
   "execution_count": 15,
   "id": "13bd157e",
   "metadata": {},
   "outputs": [],
   "source": [
    "plotter.rx_pos.append(rx)\n",
    "plotter.tx_pos.append(tx)\n",
    "plotter.lines = lines"
   ]
  },
  {
   "cell_type": "code",
   "execution_count": 16,
   "id": "25f541b2",
   "metadata": {},
   "outputs": [
    {
     "data": {
      "image/png": "[encoded data removed]",
      "text/plain": [
       "<Figure size 432x288 with 2 Axes>"
      ]
     },
     "metadata": {
      "needs_background": "light"
     },
     "output_type": "display_data"
    }
   ],
   "source": [
    "plotter.render_top()"
   ]
  },
  {
   "cell_type": "code",
   "execution_count": null,
   "id": "99dbaef4",
   "metadata": {},
   "outputs": [],
   "source": []
  }
 ],
 "metadata": {
  "kernelspec": {
   "display_name": "Python 3 (ipykernel)",
   "language": "python",
   "name": "python3"
  },
  "language_info": {
   "codemirror_mode": {
    "name": "ipython",
    "version": 3
   },
   "file_extension": ".py",
   "mimetype": "text/x-python",
   "name": "python",
   "nbconvert_exporter": "python",
   "pygments_lexer": "ipython3",
   "version": "3.8.12"
  }
 },
 "nbformat": 4,
 "nbformat_minor": 5
}
